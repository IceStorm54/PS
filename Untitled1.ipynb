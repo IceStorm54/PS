{
 "cells": [
  {
   "cell_type": "code",
   "execution_count": 1,
   "metadata": {},
   "outputs": [],
   "source": [
    "%matplotlib inline \n",
    "from sympy import Function, dsolve,solve, linsolve, diff, expand, Eq, Derivative, sin, cos, symbols, lambdify,pprint, simplify, Abs,refine,  Q, init_printing,trigsimp, linear_eq_to_matrix,S,solveset\n",
    "\n",
    "from sympy.assumptions.refine import refine_abs\n",
    "from sympy.plotting import plot\n",
    "\n",
    "from scipy import optimize\n",
    "\n",
    "import numpy as np\n",
    "import numpy.linalg as alg\n",
    "init_printing(use_unicode=True)\n"
   ]
  },
  {
   "cell_type": "code",
   "execution_count": 2,
   "metadata": {},
   "outputs": [],
   "source": [
    "x, y, z, f = symbols('x y z f',cls=Function)\n",
    "t, C1, C2, C3 = symbols(\"t C1 C2 C3\")\n",
    "X, Y, Z=symbols('X Y Z')\n",
    "\n",
    "alp=9.3\n",
    "bet=16\n",
    "gam=0\n",
    "a=-1.142857\n",
    "b=-0.714286\n"
   ]
  },
  {
   "cell_type": "code",
   "execution_count": 3,
   "metadata": {},
   "outputs": [
    {
     "name": "stdout",
     "output_type": "stream",
     "text": [
      "fonction f :\n",
      "-1.142857⋅x(t)\n"
     ]
    }
   ],
   "source": [
    "# la fonction f pour -1<x<1\n",
    "\n",
    "f=b*x(t)+0.5*(a-b)*(refine_abs(Abs(x(t)+1), Q.positive(x(t)+1))-refine_abs(Abs(x(t)-1), Q.negative(x(t)-1)))\n",
    "\n",
    "print('fonction f :')\n",
    "pprint(f)"
   ]
  },
  {
   "cell_type": "code",
   "execution_count": 4,
   "metadata": {
    "scrolled": true
   },
   "outputs": [
    {
     "name": "stdout",
     "output_type": "stream",
     "text": [
      "équations du système :\n",
      "d                                   \n",
      "──(x(t)) = 1.3285701⋅x(t) + 9.3⋅y(t)\n",
      "dt                                  \n",
      "d                            \n",
      "──(y(t)) = x(t) - y(t) + z(t)\n",
      "dt                           \n",
      "d                  \n",
      "──(z(t)) = -16⋅y(t)\n",
      "dt                 \n"
     ]
    },
    {
     "data": {
      "text/plain": [
       "[None, None, None]"
      ]
     },
     "execution_count": 4,
     "metadata": {},
     "output_type": "execute_result"
    }
   ],
   "source": [
    "# resolution du syst différentiel pour -1<x<1\n",
    "#les équations du système :\n",
    "syseq = (Eq(Derivative(x(t),t), alp*(y(t)-x(t) - f)), \n",
    "         Eq(Derivative(y(t),t), x(t)- y(t)+z(t)), \n",
    "         Eq(Derivative(z(t),t), -bet*y(t)-gam*z(t)))\n",
    "print('équations du système :')\n",
    "[pprint(eq) for eq in syseq]"
   ]
  },
  {
   "cell_type": "code",
   "execution_count": 12,
   "metadata": {
    "scrolled": false
   },
   "outputs": [
    {
     "name": "stdout",
     "output_type": "stream",
     "text": [
      "solution générale du système :\n",
      "                                                                              \n",
      "x(t) = C₁⋅(-0.164231107024504⋅sin(2.9458207733772⋅t) - 0.454441240273653⋅cos(2\n",
      "\n",
      "                    -0.946004342175165⋅t                                      \n",
      ".9458207733772⋅t))⋅ℯ                     + C₂⋅(-0.454441240273653⋅sin(2.945820\n",
      "\n",
      "                                                        -0.946004342175165⋅t  \n",
      "7733772⋅t) + 0.164231107024504⋅cos(2.9458207733772⋅t))⋅ℯ                     -\n",
      "\n",
      "                      2.22057878435033⋅t\n",
      " 1.44697180761607⋅C₃⋅ℯ                  \n",
      "                                                                              \n",
      "y(t) = C₁⋅(0.184113798336075⋅sin(2.9458207733772⋅t) + 0.0591252713859478⋅cos(2\n",
      "\n",
      "                    -0.946004342175165⋅t                                      \n",
      ".9458207733772⋅t))⋅ℯ                     + C₂⋅(0.0591252713859478⋅sin(2.945820\n",
      "\n",
      "                                                        -0.946004342175165⋅t  \n",
      "7733772⋅t) - 0.184113798336075⋅cos(2.9458207733772⋅t))⋅ℯ                     -\n",
      "\n",
      "                       2.22057878435033⋅t\n",
      " 0.138786174021896⋅C₃⋅ℯ                  \n",
      "               -0.946004342175165⋅t                                  -0.946004\n",
      "z(t) = 1.0⋅C₁⋅ℯ                    ⋅cos(2.9458207733772⋅t) + 1.0⋅C₂⋅ℯ         \n",
      "\n",
      "342175165⋅t                                  2.22057878435033⋅t\n",
      "           ⋅sin(2.9458207733772⋅t) + 1.0⋅C₃⋅ℯ                  \n"
     ]
    },
    {
     "data": {
      "text/plain": [
       "[None, None, None]"
      ]
     },
     "execution_count": 12,
     "metadata": {},
     "output_type": "execute_result"
    }
   ],
   "source": [
    "# on utilise le solveur de sympy\n",
    "soluce=dsolve(syseq)\n",
    "print('solution générale du système :')\n",
    "[pprint(func) for func in soluce  ]"
   ]
  },
  {
   "cell_type": "code",
   "execution_count": 13,
   "metadata": {},
   "outputs": [
    {
     "name": "stdout",
     "output_type": "stream",
     "text": [
      "Conditions initiales :\n",
      "[0.7, 0, 0]\n"
     ]
    }
   ],
   "source": [
    "# X0 Conditions initiales\n",
    "CI = [0.7, 0, 0]\n",
    "print('Conditions initiales :')\n",
    "pprint(CI)"
   ]
  },
  {
   "cell_type": "code",
   "execution_count": null,
   "metadata": {},
   "outputs": [],
   "source": [
    "# détermination des constantes pour les CI\n",
    "constants = solve((soluce[0].subs(t,0).subs(x(0),CI[0]), \n",
    "                   soluce[1].subs(t,0).subs(y(0),CI[1]),\n",
    "                   soluce[2].subs(t,0).subs(z(0),CI[2])),\n",
    "                  {C1,C2,C3})\n",
    "print('Détermination des constantes :')\n",
    "pprint(constants)"
   ]
  },
  {
   "cell_type": "code",
   "execution_count": null,
   "metadata": {},
   "outputs": [],
   "source": [
    "#Remplacement des constantes dans les membres de droite et simplification par expand\n",
    "Xsyseq=[Eq(sy,expand(eq.rhs.subs(constants)) )for sy, eq in zip([x(t),y(t),z(t)],soluce)]\n",
    "print('La solution pour les CI...',CI)\n",
    "[pprint(eq) for eq in Xsyseq]\n",
    "plot(Xsyseq[0].rhs,  (t, 0, 1))"
   ]
  },
  {
   "cell_type": "code",
   "execution_count": null,
   "metadata": {},
   "outputs": [],
   "source": [
    "#Determiner la racine de x(t)=1 :\n",
    "lam_x=lambdify(t,Xsyseq[0].rhs-1)\n",
    "xprime=diff(Xsyseq[0].rhs,t)\n",
    "lam_xp=lambdify(t,xprime)\n",
    "root = optimize.newton(lam_x, 0.2,lam_xp);root\n",
    "print ('x=1 pour t=', root)"
   ]
  },
  {
   "cell_type": "code",
   "execution_count": null,
   "metadata": {},
   "outputs": [],
   "source": [
    "from IPython.core.display import display, HTML \n",
    "display(HTML(\"<style>.container {width:80% !important;}</style>\")) "
   ]
  },
  {
   "cell_type": "code",
   "execution_count": 11,
   "metadata": {},
   "outputs": [
    {
     "data": {
      "text/html": [
       "\n",
       "<style>\n",
       "    div#notebook-container    { width: 60%; }\n",
       "    div#menubar-container     { width: 99%; }\n",
       "    div#maintoolbar-container { width: 99%; }\n",
       "</style>\n"
      ],
      "text/plain": [
       "<IPython.core.display.HTML object>"
      ]
     },
     "metadata": {},
     "output_type": "display_data"
    }
   ],
   "source": [
    "from IPython.display import display, HTML\n",
    "\n",
    "display(HTML(data=\"\"\"\n",
    "<style>\n",
    "    div#notebook-container    { width: 60%; }\n",
    "    div#menubar-container     { width: 99%; }\n",
    "    div#maintoolbar-container { width: 99%; }\n",
    "</style>\n",
    "\"\"\"))"
   ]
  },
  {
   "cell_type": "code",
   "execution_count": 14,
   "metadata": {},
   "outputs": [
    {
     "data": {
      "application/json": {
       "cell": {
        "!": "OSMagics",
        "HTML": "Other",
        "SVG": "Other",
        "bash": "Other",
        "capture": "ExecutionMagics",
        "cmd": "Other",
        "debug": "ExecutionMagics",
        "file": "Other",
        "html": "DisplayMagics",
        "javascript": "DisplayMagics",
        "js": "DisplayMagics",
        "latex": "DisplayMagics",
        "markdown": "DisplayMagics",
        "perl": "Other",
        "prun": "ExecutionMagics",
        "pypy": "Other",
        "python": "Other",
        "python2": "Other",
        "python3": "Other",
        "ruby": "Other",
        "script": "ScriptMagics",
        "sh": "Other",
        "svg": "DisplayMagics",
        "sx": "OSMagics",
        "system": "OSMagics",
        "time": "ExecutionMagics",
        "timeit": "ExecutionMagics",
        "writefile": "OSMagics"
       },
       "line": {
        "alias": "OSMagics",
        "alias_magic": "BasicMagics",
        "autoawait": "AsyncMagics",
        "autocall": "AutoMagics",
        "automagic": "AutoMagics",
        "autosave": "KernelMagics",
        "bookmark": "OSMagics",
        "cd": "OSMagics",
        "clear": "KernelMagics",
        "cls": "KernelMagics",
        "colors": "BasicMagics",
        "conda": "PackagingMagics",
        "config": "ConfigMagics",
        "connect_info": "KernelMagics",
        "copy": "Other",
        "ddir": "Other",
        "debug": "ExecutionMagics",
        "dhist": "OSMagics",
        "dirs": "OSMagics",
        "doctest_mode": "BasicMagics",
        "echo": "Other",
        "ed": "Other",
        "edit": "KernelMagics",
        "env": "OSMagics",
        "gui": "BasicMagics",
        "hist": "Other",
        "history": "HistoryMagics",
        "killbgscripts": "ScriptMagics",
        "ldir": "Other",
        "less": "KernelMagics",
        "load": "CodeMagics",
        "load_ext": "ExtensionMagics",
        "loadpy": "CodeMagics",
        "logoff": "LoggingMagics",
        "logon": "LoggingMagics",
        "logstart": "LoggingMagics",
        "logstate": "LoggingMagics",
        "logstop": "LoggingMagics",
        "ls": "Other",
        "lsmagic": "BasicMagics",
        "macro": "ExecutionMagics",
        "magic": "BasicMagics",
        "matplotlib": "PylabMagics",
        "mkdir": "Other",
        "more": "KernelMagics",
        "notebook": "BasicMagics",
        "page": "BasicMagics",
        "pastebin": "CodeMagics",
        "pdb": "ExecutionMagics",
        "pdef": "NamespaceMagics",
        "pdoc": "NamespaceMagics",
        "pfile": "NamespaceMagics",
        "pinfo": "NamespaceMagics",
        "pinfo2": "NamespaceMagics",
        "pip": "PackagingMagics",
        "popd": "OSMagics",
        "pprint": "BasicMagics",
        "precision": "BasicMagics",
        "prun": "ExecutionMagics",
        "psearch": "NamespaceMagics",
        "psource": "NamespaceMagics",
        "pushd": "OSMagics",
        "pwd": "OSMagics",
        "pycat": "OSMagics",
        "pylab": "PylabMagics",
        "qtconsole": "KernelMagics",
        "quickref": "BasicMagics",
        "recall": "HistoryMagics",
        "rehashx": "OSMagics",
        "reload_ext": "ExtensionMagics",
        "ren": "Other",
        "rep": "Other",
        "rerun": "HistoryMagics",
        "reset": "NamespaceMagics",
        "reset_selective": "NamespaceMagics",
        "rmdir": "Other",
        "run": "ExecutionMagics",
        "save": "CodeMagics",
        "sc": "OSMagics",
        "set_env": "OSMagics",
        "store": "StoreMagics",
        "sx": "OSMagics",
        "system": "OSMagics",
        "tb": "ExecutionMagics",
        "time": "ExecutionMagics",
        "timeit": "ExecutionMagics",
        "unalias": "OSMagics",
        "unload_ext": "ExtensionMagics",
        "who": "NamespaceMagics",
        "who_ls": "NamespaceMagics",
        "whos": "NamespaceMagics",
        "xdel": "NamespaceMagics",
        "xmode": "BasicMagics"
       }
      },
      "text/plain": [
       "Available line magics:\n",
       "%alias  %alias_magic  %autoawait  %autocall  %automagic  %autosave  %bookmark  %cd  %clear  %cls  %colors  %conda  %config  %connect_info  %copy  %ddir  %debug  %dhist  %dirs  %doctest_mode  %echo  %ed  %edit  %env  %gui  %hist  %history  %killbgscripts  %ldir  %less  %load  %load_ext  %loadpy  %logoff  %logon  %logstart  %logstate  %logstop  %ls  %lsmagic  %macro  %magic  %matplotlib  %mkdir  %more  %notebook  %page  %pastebin  %pdb  %pdef  %pdoc  %pfile  %pinfo  %pinfo2  %pip  %popd  %pprint  %precision  %prun  %psearch  %psource  %pushd  %pwd  %pycat  %pylab  %qtconsole  %quickref  %recall  %rehashx  %reload_ext  %ren  %rep  %rerun  %reset  %reset_selective  %rmdir  %run  %save  %sc  %set_env  %store  %sx  %system  %tb  %time  %timeit  %unalias  %unload_ext  %who  %who_ls  %whos  %xdel  %xmode\n",
       "\n",
       "Available cell magics:\n",
       "%%!  %%HTML  %%SVG  %%bash  %%capture  %%cmd  %%debug  %%file  %%html  %%javascript  %%js  %%latex  %%markdown  %%perl  %%prun  %%pypy  %%python  %%python2  %%python3  %%ruby  %%script  %%sh  %%svg  %%sx  %%system  %%time  %%timeit  %%writefile\n",
       "\n",
       "Automagic is ON, % prefix IS NOT needed for line magics."
      ]
     },
     "execution_count": 14,
     "metadata": {},
     "output_type": "execute_result"
    }
   ],
   "source": [
    "%lsmagic"
   ]
  },
  {
   "cell_type": "code",
   "execution_count": null,
   "metadata": {},
   "outputs": [],
   "source": []
  }
 ],
 "metadata": {
  "celltoolbar": "Format de la Cellule Texte Brut",
  "kernelspec": {
   "display_name": "Python 3",
   "language": "python",
   "name": "python3"
  },
  "language_info": {
   "codemirror_mode": {
    "name": "ipython",
    "version": 3
   },
   "file_extension": ".py",
   "mimetype": "text/x-python",
   "name": "python",
   "nbconvert_exporter": "python",
   "pygments_lexer": "ipython3",
   "version": "3.7.3"
  }
 },
 "nbformat": 4,
 "nbformat_minor": 2
}
